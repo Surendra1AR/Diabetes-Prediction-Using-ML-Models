{
 "cells": [
  {
   "cell_type": "markdown",
   "metadata": {},
   "source": [
    "## Data Description:\n",
    "\n",
    "* The datasets consists of several medical predictor variables and one target variable, Outcome. Predictor variables includes the number of pregnancies the patient has had, their BMI, insulin level, age, and so on.\n",
    "\n",
    "\n",
    "* We build a machine learning model to accurately predict whether or not the patients in the dataset have diabetes or not.:\n",
    "\n",
    " **Pregnancies:** Number of times pregnant:\n",
    " \n",
    " **Glucose:** Plasma glucose concentration a 2 hours in an oral glucose tolerance test\n",
    " \n",
    " **BloodPressure:** Diastolic blood pressure (mm Hg)\n",
    " \n",
    " **SkinThickness:** Triceps skin fold thickness (mm) \n",
    " \n",
    " **Insulin:** 2-Hour serum insulin (mu U/ml)\n",
    " \n",
    " **BMI:** Body mass index (weight in kg/(height in m)^2)\n",
    " \n",
    " **DiabetesPedigreeFunction:** Diabetes pedigree function\n",
    " \n",
    " **Age:** Age (years)\n",
    "\n",
    "Outcome: Class variable (0 or 1) 268 of 768 are 1, the others are 0\n",
    " \n",
    "\n"
   ]
  },
  {
   "cell_type": "code",
   "execution_count": null,
   "metadata": {},
   "outputs": [],
   "source": []
  }
 ],
 "metadata": {
  "kernelspec": {
   "display_name": "Python 3",
   "language": "python",
   "name": "python3"
  },
  "language_info": {
   "codemirror_mode": {
    "name": "ipython",
    "version": 3
   },
   "file_extension": ".py",
   "mimetype": "text/x-python",
   "name": "python",
   "nbconvert_exporter": "python",
   "pygments_lexer": "ipython3",
   "version": "3.8.5"
  }
 },
 "nbformat": 4,
 "nbformat_minor": 4
}
